{
 "cells": [
  {
   "cell_type": "markdown",
   "id": "cda0fd7f",
   "metadata": {},
   "source": [
    "## To Do\n",
    "\n",
    "- regression for conditions\n",
    "  - tvns DONE\n",
    "  - sham DONE\n",
    "  - partial DONE\n",
    "  - full DONE\n",
    "- compare blocks?\n",
    "- fix scatter plots\n",
    "- moving avg calculation on rewards (ascending)"
   ]
  },
  {
   "cell_type": "code",
   "execution_count": 1,
   "id": "8ed3edda",
   "metadata": {},
   "outputs": [],
   "source": [
    "# Importing relevant libraries\n",
    "\n",
    "import pandas as pd\n",
    "import numpy as np\n",
    "import matplotlib.pyplot as plt\n",
    "import seaborn as sns\n",
    "from sklearn.model_selection import train_test_split\n",
    "from sklearn.linear_model import LogisticRegression\n",
    "from sklearn.metrics import confusion_matrix\n",
    "from sklearn.metrics import accuracy_score\n",
    "from scipy.stats import f_oneway\n",
    "from scipy.stats import chi2_contingency"
   ]
  },
  {
   "cell_type": "code",
   "execution_count": 2,
   "id": "f88e446f",
   "metadata": {},
   "outputs": [],
   "source": [
    "# Importing dataset\n",
    "\n",
    "data = pd.read_csv('project_S034csv.csv')"
   ]
  },
  {
   "cell_type": "code",
   "execution_count": 3,
   "id": "a4cfe0b6",
   "metadata": {},
   "outputs": [
    {
     "data": {
      "text/html": [
       "<div>\n",
       "<style scoped>\n",
       "    .dataframe tbody tr th:only-of-type {\n",
       "        vertical-align: middle;\n",
       "    }\n",
       "\n",
       "    .dataframe tbody tr th {\n",
       "        vertical-align: top;\n",
       "    }\n",
       "\n",
       "    .dataframe thead th {\n",
       "        text-align: right;\n",
       "    }\n",
       "</style>\n",
       "<table border=\"1\" class=\"dataframe\">\n",
       "  <thead>\n",
       "    <tr style=\"text-align: right;\">\n",
       "      <th></th>\n",
       "      <th>block</th>\n",
       "      <th>trial</th>\n",
       "      <th>task</th>\n",
       "      <th>tvns</th>\n",
       "      <th>decision</th>\n",
       "      <th>reward</th>\n",
       "    </tr>\n",
       "  </thead>\n",
       "  <tbody>\n",
       "    <tr>\n",
       "      <th>0</th>\n",
       "      <td>1</td>\n",
       "      <td>1</td>\n",
       "      <td>partial</td>\n",
       "      <td>tVNS</td>\n",
       "      <td>2</td>\n",
       "      <td>41</td>\n",
       "    </tr>\n",
       "    <tr>\n",
       "      <th>1</th>\n",
       "      <td>1</td>\n",
       "      <td>2</td>\n",
       "      <td>partial</td>\n",
       "      <td>tVNS</td>\n",
       "      <td>2</td>\n",
       "      <td>57</td>\n",
       "    </tr>\n",
       "    <tr>\n",
       "      <th>2</th>\n",
       "      <td>1</td>\n",
       "      <td>3</td>\n",
       "      <td>partial</td>\n",
       "      <td>tVNS</td>\n",
       "      <td>2</td>\n",
       "      <td>62</td>\n",
       "    </tr>\n",
       "    <tr>\n",
       "      <th>3</th>\n",
       "      <td>1</td>\n",
       "      <td>4</td>\n",
       "      <td>partial</td>\n",
       "      <td>tVNS</td>\n",
       "      <td>2</td>\n",
       "      <td>76</td>\n",
       "    </tr>\n",
       "    <tr>\n",
       "      <th>4</th>\n",
       "      <td>1</td>\n",
       "      <td>5</td>\n",
       "      <td>partial</td>\n",
       "      <td>tVNS</td>\n",
       "      <td>2</td>\n",
       "      <td>76</td>\n",
       "    </tr>\n",
       "    <tr>\n",
       "      <th>...</th>\n",
       "      <td>...</td>\n",
       "      <td>...</td>\n",
       "      <td>...</td>\n",
       "      <td>...</td>\n",
       "      <td>...</td>\n",
       "      <td>...</td>\n",
       "    </tr>\n",
       "    <tr>\n",
       "      <th>443</th>\n",
       "      <td>4</td>\n",
       "      <td>52</td>\n",
       "      <td>partial</td>\n",
       "      <td>sham</td>\n",
       "      <td>2</td>\n",
       "      <td>52</td>\n",
       "    </tr>\n",
       "    <tr>\n",
       "      <th>444</th>\n",
       "      <td>4</td>\n",
       "      <td>53</td>\n",
       "      <td>partial</td>\n",
       "      <td>sham</td>\n",
       "      <td>2</td>\n",
       "      <td>53</td>\n",
       "    </tr>\n",
       "    <tr>\n",
       "      <th>445</th>\n",
       "      <td>4</td>\n",
       "      <td>54</td>\n",
       "      <td>partial</td>\n",
       "      <td>sham</td>\n",
       "      <td>2</td>\n",
       "      <td>29</td>\n",
       "    </tr>\n",
       "    <tr>\n",
       "      <th>446</th>\n",
       "      <td>4</td>\n",
       "      <td>55</td>\n",
       "      <td>partial</td>\n",
       "      <td>sham</td>\n",
       "      <td>2</td>\n",
       "      <td>25</td>\n",
       "    </tr>\n",
       "    <tr>\n",
       "      <th>447</th>\n",
       "      <td>4</td>\n",
       "      <td>56</td>\n",
       "      <td>partial</td>\n",
       "      <td>sham</td>\n",
       "      <td>1</td>\n",
       "      <td>11</td>\n",
       "    </tr>\n",
       "  </tbody>\n",
       "</table>\n",
       "<p>448 rows × 6 columns</p>\n",
       "</div>"
      ],
      "text/plain": [
       "     block  trial     task  tvns  decision  reward\n",
       "0        1      1  partial  tVNS         2      41\n",
       "1        1      2  partial  tVNS         2      57\n",
       "2        1      3  partial  tVNS         2      62\n",
       "3        1      4  partial  tVNS         2      76\n",
       "4        1      5  partial  tVNS         2      76\n",
       "..     ...    ...      ...   ...       ...     ...\n",
       "443      4     52  partial  sham         2      52\n",
       "444      4     53  partial  sham         2      53\n",
       "445      4     54  partial  sham         2      29\n",
       "446      4     55  partial  sham         2      25\n",
       "447      4     56  partial  sham         1      11\n",
       "\n",
       "[448 rows x 6 columns]"
      ]
     },
     "execution_count": 3,
     "metadata": {},
     "output_type": "execute_result"
    }
   ],
   "source": [
    "data"
   ]
  },
  {
   "cell_type": "code",
   "execution_count": 4,
   "id": "e04f833f",
   "metadata": {},
   "outputs": [],
   "source": [
    "# Adding a column showing whether a switch was made in the following trial\n",
    "# 0 = no switch\n",
    "# 1 = switch\n",
    "\n",
    "decision_list = data['decision'].tolist()\n",
    "\n",
    "switch_list = []\n",
    "\n",
    "for i in range(len(decision_list)-1):\n",
    "    x = decision_list[i]\n",
    "    y = decision_list[i+1]\n",
    "    if x == y:\n",
    "        switch_list.append('0')\n",
    "    else:\n",
    "        switch_list.append('1')\n",
    "\n",
    "if switch_list[-1] == switch_list[-2]:\n",
    "    switch_list.append('0')\n",
    "else:\n",
    "    switch_list.append('1')\n",
    "\n",
    "data['switch'] = switch_list\n",
    "data['switch'] = pd.to_numeric(data['switch'])\n"
   ]
  },
  {
   "cell_type": "code",
   "execution_count": 5,
   "id": "21a07be2",
   "metadata": {},
   "outputs": [
    {
     "data": {
      "text/html": [
       "<div>\n",
       "<style scoped>\n",
       "    .dataframe tbody tr th:only-of-type {\n",
       "        vertical-align: middle;\n",
       "    }\n",
       "\n",
       "    .dataframe tbody tr th {\n",
       "        vertical-align: top;\n",
       "    }\n",
       "\n",
       "    .dataframe thead th {\n",
       "        text-align: right;\n",
       "    }\n",
       "</style>\n",
       "<table border=\"1\" class=\"dataframe\">\n",
       "  <thead>\n",
       "    <tr style=\"text-align: right;\">\n",
       "      <th></th>\n",
       "      <th>block</th>\n",
       "      <th>trial</th>\n",
       "      <th>task</th>\n",
       "      <th>tvns</th>\n",
       "      <th>decision</th>\n",
       "      <th>reward</th>\n",
       "      <th>switch</th>\n",
       "    </tr>\n",
       "  </thead>\n",
       "  <tbody>\n",
       "    <tr>\n",
       "      <th>0</th>\n",
       "      <td>1</td>\n",
       "      <td>1</td>\n",
       "      <td>partial</td>\n",
       "      <td>tVNS</td>\n",
       "      <td>2</td>\n",
       "      <td>41</td>\n",
       "      <td>0</td>\n",
       "    </tr>\n",
       "    <tr>\n",
       "      <th>1</th>\n",
       "      <td>1</td>\n",
       "      <td>2</td>\n",
       "      <td>partial</td>\n",
       "      <td>tVNS</td>\n",
       "      <td>2</td>\n",
       "      <td>57</td>\n",
       "      <td>0</td>\n",
       "    </tr>\n",
       "    <tr>\n",
       "      <th>2</th>\n",
       "      <td>1</td>\n",
       "      <td>3</td>\n",
       "      <td>partial</td>\n",
       "      <td>tVNS</td>\n",
       "      <td>2</td>\n",
       "      <td>62</td>\n",
       "      <td>0</td>\n",
       "    </tr>\n",
       "    <tr>\n",
       "      <th>3</th>\n",
       "      <td>1</td>\n",
       "      <td>4</td>\n",
       "      <td>partial</td>\n",
       "      <td>tVNS</td>\n",
       "      <td>2</td>\n",
       "      <td>76</td>\n",
       "      <td>0</td>\n",
       "    </tr>\n",
       "    <tr>\n",
       "      <th>4</th>\n",
       "      <td>1</td>\n",
       "      <td>5</td>\n",
       "      <td>partial</td>\n",
       "      <td>tVNS</td>\n",
       "      <td>2</td>\n",
       "      <td>76</td>\n",
       "      <td>0</td>\n",
       "    </tr>\n",
       "    <tr>\n",
       "      <th>5</th>\n",
       "      <td>1</td>\n",
       "      <td>6</td>\n",
       "      <td>partial</td>\n",
       "      <td>tVNS</td>\n",
       "      <td>2</td>\n",
       "      <td>81</td>\n",
       "      <td>0</td>\n",
       "    </tr>\n",
       "    <tr>\n",
       "      <th>6</th>\n",
       "      <td>1</td>\n",
       "      <td>7</td>\n",
       "      <td>partial</td>\n",
       "      <td>tVNS</td>\n",
       "      <td>2</td>\n",
       "      <td>55</td>\n",
       "      <td>1</td>\n",
       "    </tr>\n",
       "    <tr>\n",
       "      <th>7</th>\n",
       "      <td>1</td>\n",
       "      <td>8</td>\n",
       "      <td>partial</td>\n",
       "      <td>tVNS</td>\n",
       "      <td>1</td>\n",
       "      <td>67</td>\n",
       "      <td>0</td>\n",
       "    </tr>\n",
       "    <tr>\n",
       "      <th>8</th>\n",
       "      <td>1</td>\n",
       "      <td>9</td>\n",
       "      <td>partial</td>\n",
       "      <td>tVNS</td>\n",
       "      <td>1</td>\n",
       "      <td>35</td>\n",
       "      <td>1</td>\n",
       "    </tr>\n",
       "    <tr>\n",
       "      <th>9</th>\n",
       "      <td>1</td>\n",
       "      <td>10</td>\n",
       "      <td>partial</td>\n",
       "      <td>tVNS</td>\n",
       "      <td>2</td>\n",
       "      <td>18</td>\n",
       "      <td>1</td>\n",
       "    </tr>\n",
       "    <tr>\n",
       "      <th>10</th>\n",
       "      <td>1</td>\n",
       "      <td>11</td>\n",
       "      <td>partial</td>\n",
       "      <td>tVNS</td>\n",
       "      <td>1</td>\n",
       "      <td>46</td>\n",
       "      <td>0</td>\n",
       "    </tr>\n",
       "    <tr>\n",
       "      <th>11</th>\n",
       "      <td>1</td>\n",
       "      <td>12</td>\n",
       "      <td>partial</td>\n",
       "      <td>tVNS</td>\n",
       "      <td>1</td>\n",
       "      <td>74</td>\n",
       "      <td>0</td>\n",
       "    </tr>\n",
       "    <tr>\n",
       "      <th>12</th>\n",
       "      <td>1</td>\n",
       "      <td>13</td>\n",
       "      <td>partial</td>\n",
       "      <td>tVNS</td>\n",
       "      <td>1</td>\n",
       "      <td>69</td>\n",
       "      <td>1</td>\n",
       "    </tr>\n",
       "    <tr>\n",
       "      <th>13</th>\n",
       "      <td>1</td>\n",
       "      <td>14</td>\n",
       "      <td>partial</td>\n",
       "      <td>tVNS</td>\n",
       "      <td>2</td>\n",
       "      <td>41</td>\n",
       "      <td>1</td>\n",
       "    </tr>\n",
       "    <tr>\n",
       "      <th>14</th>\n",
       "      <td>1</td>\n",
       "      <td>15</td>\n",
       "      <td>partial</td>\n",
       "      <td>tVNS</td>\n",
       "      <td>1</td>\n",
       "      <td>73</td>\n",
       "      <td>0</td>\n",
       "    </tr>\n",
       "    <tr>\n",
       "      <th>15</th>\n",
       "      <td>1</td>\n",
       "      <td>16</td>\n",
       "      <td>partial</td>\n",
       "      <td>tVNS</td>\n",
       "      <td>1</td>\n",
       "      <td>63</td>\n",
       "      <td>1</td>\n",
       "    </tr>\n",
       "    <tr>\n",
       "      <th>16</th>\n",
       "      <td>1</td>\n",
       "      <td>17</td>\n",
       "      <td>partial</td>\n",
       "      <td>tVNS</td>\n",
       "      <td>2</td>\n",
       "      <td>26</td>\n",
       "      <td>0</td>\n",
       "    </tr>\n",
       "    <tr>\n",
       "      <th>17</th>\n",
       "      <td>1</td>\n",
       "      <td>18</td>\n",
       "      <td>partial</td>\n",
       "      <td>tVNS</td>\n",
       "      <td>2</td>\n",
       "      <td>60</td>\n",
       "      <td>0</td>\n",
       "    </tr>\n",
       "    <tr>\n",
       "      <th>18</th>\n",
       "      <td>1</td>\n",
       "      <td>19</td>\n",
       "      <td>partial</td>\n",
       "      <td>tVNS</td>\n",
       "      <td>2</td>\n",
       "      <td>16</td>\n",
       "      <td>1</td>\n",
       "    </tr>\n",
       "    <tr>\n",
       "      <th>19</th>\n",
       "      <td>1</td>\n",
       "      <td>20</td>\n",
       "      <td>partial</td>\n",
       "      <td>tVNS</td>\n",
       "      <td>1</td>\n",
       "      <td>56</td>\n",
       "      <td>0</td>\n",
       "    </tr>\n",
       "  </tbody>\n",
       "</table>\n",
       "</div>"
      ],
      "text/plain": [
       "    block  trial     task  tvns  decision  reward  switch\n",
       "0       1      1  partial  tVNS         2      41       0\n",
       "1       1      2  partial  tVNS         2      57       0\n",
       "2       1      3  partial  tVNS         2      62       0\n",
       "3       1      4  partial  tVNS         2      76       0\n",
       "4       1      5  partial  tVNS         2      76       0\n",
       "5       1      6  partial  tVNS         2      81       0\n",
       "6       1      7  partial  tVNS         2      55       1\n",
       "7       1      8  partial  tVNS         1      67       0\n",
       "8       1      9  partial  tVNS         1      35       1\n",
       "9       1     10  partial  tVNS         2      18       1\n",
       "10      1     11  partial  tVNS         1      46       0\n",
       "11      1     12  partial  tVNS         1      74       0\n",
       "12      1     13  partial  tVNS         1      69       1\n",
       "13      1     14  partial  tVNS         2      41       1\n",
       "14      1     15  partial  tVNS         1      73       0\n",
       "15      1     16  partial  tVNS         1      63       1\n",
       "16      1     17  partial  tVNS         2      26       0\n",
       "17      1     18  partial  tVNS         2      60       0\n",
       "18      1     19  partial  tVNS         2      16       1\n",
       "19      1     20  partial  tVNS         1      56       0"
      ]
     },
     "execution_count": 5,
     "metadata": {},
     "output_type": "execute_result"
    }
   ],
   "source": [
    "data.head(20)"
   ]
  },
  {
   "cell_type": "code",
   "execution_count": 6,
   "id": "ebe82057",
   "metadata": {},
   "outputs": [
    {
     "data": {
      "text/html": [
       "<div>\n",
       "<style scoped>\n",
       "    .dataframe tbody tr th:only-of-type {\n",
       "        vertical-align: middle;\n",
       "    }\n",
       "\n",
       "    .dataframe tbody tr th {\n",
       "        vertical-align: top;\n",
       "    }\n",
       "\n",
       "    .dataframe thead th {\n",
       "        text-align: right;\n",
       "    }\n",
       "</style>\n",
       "<table border=\"1\" class=\"dataframe\">\n",
       "  <thead>\n",
       "    <tr style=\"text-align: right;\">\n",
       "      <th></th>\n",
       "      <th>block</th>\n",
       "      <th>trial</th>\n",
       "      <th>task</th>\n",
       "      <th>tvns</th>\n",
       "      <th>decision</th>\n",
       "      <th>reward</th>\n",
       "      <th>switch</th>\n",
       "      <th>reward_levels</th>\n",
       "    </tr>\n",
       "  </thead>\n",
       "  <tbody>\n",
       "    <tr>\n",
       "      <th>0</th>\n",
       "      <td>1</td>\n",
       "      <td>1</td>\n",
       "      <td>partial</td>\n",
       "      <td>tVNS</td>\n",
       "      <td>2</td>\n",
       "      <td>41</td>\n",
       "      <td>0</td>\n",
       "      <td>lower medium</td>\n",
       "    </tr>\n",
       "    <tr>\n",
       "      <th>1</th>\n",
       "      <td>1</td>\n",
       "      <td>2</td>\n",
       "      <td>partial</td>\n",
       "      <td>tVNS</td>\n",
       "      <td>2</td>\n",
       "      <td>57</td>\n",
       "      <td>0</td>\n",
       "      <td>medium</td>\n",
       "    </tr>\n",
       "    <tr>\n",
       "      <th>2</th>\n",
       "      <td>1</td>\n",
       "      <td>3</td>\n",
       "      <td>partial</td>\n",
       "      <td>tVNS</td>\n",
       "      <td>2</td>\n",
       "      <td>62</td>\n",
       "      <td>0</td>\n",
       "      <td>medium</td>\n",
       "    </tr>\n",
       "    <tr>\n",
       "      <th>3</th>\n",
       "      <td>1</td>\n",
       "      <td>4</td>\n",
       "      <td>partial</td>\n",
       "      <td>tVNS</td>\n",
       "      <td>2</td>\n",
       "      <td>76</td>\n",
       "      <td>0</td>\n",
       "      <td>upper medium</td>\n",
       "    </tr>\n",
       "    <tr>\n",
       "      <th>4</th>\n",
       "      <td>1</td>\n",
       "      <td>5</td>\n",
       "      <td>partial</td>\n",
       "      <td>tVNS</td>\n",
       "      <td>2</td>\n",
       "      <td>76</td>\n",
       "      <td>0</td>\n",
       "      <td>upper medium</td>\n",
       "    </tr>\n",
       "    <tr>\n",
       "      <th>5</th>\n",
       "      <td>1</td>\n",
       "      <td>6</td>\n",
       "      <td>partial</td>\n",
       "      <td>tVNS</td>\n",
       "      <td>2</td>\n",
       "      <td>81</td>\n",
       "      <td>0</td>\n",
       "      <td>high</td>\n",
       "    </tr>\n",
       "    <tr>\n",
       "      <th>6</th>\n",
       "      <td>1</td>\n",
       "      <td>7</td>\n",
       "      <td>partial</td>\n",
       "      <td>tVNS</td>\n",
       "      <td>2</td>\n",
       "      <td>55</td>\n",
       "      <td>1</td>\n",
       "      <td>medium</td>\n",
       "    </tr>\n",
       "    <tr>\n",
       "      <th>7</th>\n",
       "      <td>1</td>\n",
       "      <td>8</td>\n",
       "      <td>partial</td>\n",
       "      <td>tVNS</td>\n",
       "      <td>1</td>\n",
       "      <td>67</td>\n",
       "      <td>0</td>\n",
       "      <td>upper medium</td>\n",
       "    </tr>\n",
       "    <tr>\n",
       "      <th>8</th>\n",
       "      <td>1</td>\n",
       "      <td>9</td>\n",
       "      <td>partial</td>\n",
       "      <td>tVNS</td>\n",
       "      <td>1</td>\n",
       "      <td>35</td>\n",
       "      <td>1</td>\n",
       "      <td>lower medium</td>\n",
       "    </tr>\n",
       "    <tr>\n",
       "      <th>9</th>\n",
       "      <td>1</td>\n",
       "      <td>10</td>\n",
       "      <td>partial</td>\n",
       "      <td>tVNS</td>\n",
       "      <td>2</td>\n",
       "      <td>18</td>\n",
       "      <td>1</td>\n",
       "      <td>low</td>\n",
       "    </tr>\n",
       "    <tr>\n",
       "      <th>10</th>\n",
       "      <td>1</td>\n",
       "      <td>11</td>\n",
       "      <td>partial</td>\n",
       "      <td>tVNS</td>\n",
       "      <td>1</td>\n",
       "      <td>46</td>\n",
       "      <td>0</td>\n",
       "      <td>lower medium</td>\n",
       "    </tr>\n",
       "    <tr>\n",
       "      <th>11</th>\n",
       "      <td>1</td>\n",
       "      <td>12</td>\n",
       "      <td>partial</td>\n",
       "      <td>tVNS</td>\n",
       "      <td>1</td>\n",
       "      <td>74</td>\n",
       "      <td>0</td>\n",
       "      <td>upper medium</td>\n",
       "    </tr>\n",
       "    <tr>\n",
       "      <th>12</th>\n",
       "      <td>1</td>\n",
       "      <td>13</td>\n",
       "      <td>partial</td>\n",
       "      <td>tVNS</td>\n",
       "      <td>1</td>\n",
       "      <td>69</td>\n",
       "      <td>1</td>\n",
       "      <td>upper medium</td>\n",
       "    </tr>\n",
       "    <tr>\n",
       "      <th>13</th>\n",
       "      <td>1</td>\n",
       "      <td>14</td>\n",
       "      <td>partial</td>\n",
       "      <td>tVNS</td>\n",
       "      <td>2</td>\n",
       "      <td>41</td>\n",
       "      <td>1</td>\n",
       "      <td>lower medium</td>\n",
       "    </tr>\n",
       "    <tr>\n",
       "      <th>14</th>\n",
       "      <td>1</td>\n",
       "      <td>15</td>\n",
       "      <td>partial</td>\n",
       "      <td>tVNS</td>\n",
       "      <td>1</td>\n",
       "      <td>73</td>\n",
       "      <td>0</td>\n",
       "      <td>upper medium</td>\n",
       "    </tr>\n",
       "    <tr>\n",
       "      <th>15</th>\n",
       "      <td>1</td>\n",
       "      <td>16</td>\n",
       "      <td>partial</td>\n",
       "      <td>tVNS</td>\n",
       "      <td>1</td>\n",
       "      <td>63</td>\n",
       "      <td>1</td>\n",
       "      <td>medium</td>\n",
       "    </tr>\n",
       "    <tr>\n",
       "      <th>16</th>\n",
       "      <td>1</td>\n",
       "      <td>17</td>\n",
       "      <td>partial</td>\n",
       "      <td>tVNS</td>\n",
       "      <td>2</td>\n",
       "      <td>26</td>\n",
       "      <td>0</td>\n",
       "      <td>low</td>\n",
       "    </tr>\n",
       "    <tr>\n",
       "      <th>17</th>\n",
       "      <td>1</td>\n",
       "      <td>18</td>\n",
       "      <td>partial</td>\n",
       "      <td>tVNS</td>\n",
       "      <td>2</td>\n",
       "      <td>60</td>\n",
       "      <td>0</td>\n",
       "      <td>medium</td>\n",
       "    </tr>\n",
       "    <tr>\n",
       "      <th>18</th>\n",
       "      <td>1</td>\n",
       "      <td>19</td>\n",
       "      <td>partial</td>\n",
       "      <td>tVNS</td>\n",
       "      <td>2</td>\n",
       "      <td>16</td>\n",
       "      <td>1</td>\n",
       "      <td>low</td>\n",
       "    </tr>\n",
       "    <tr>\n",
       "      <th>19</th>\n",
       "      <td>1</td>\n",
       "      <td>20</td>\n",
       "      <td>partial</td>\n",
       "      <td>tVNS</td>\n",
       "      <td>1</td>\n",
       "      <td>56</td>\n",
       "      <td>0</td>\n",
       "      <td>medium</td>\n",
       "    </tr>\n",
       "  </tbody>\n",
       "</table>\n",
       "</div>"
      ],
      "text/plain": [
       "    block  trial     task  tvns  decision  reward  switch reward_levels\n",
       "0       1      1  partial  tVNS         2      41       0  lower medium\n",
       "1       1      2  partial  tVNS         2      57       0        medium\n",
       "2       1      3  partial  tVNS         2      62       0        medium\n",
       "3       1      4  partial  tVNS         2      76       0  upper medium\n",
       "4       1      5  partial  tVNS         2      76       0  upper medium\n",
       "5       1      6  partial  tVNS         2      81       0          high\n",
       "6       1      7  partial  tVNS         2      55       1        medium\n",
       "7       1      8  partial  tVNS         1      67       0  upper medium\n",
       "8       1      9  partial  tVNS         1      35       1  lower medium\n",
       "9       1     10  partial  tVNS         2      18       1           low\n",
       "10      1     11  partial  tVNS         1      46       0  lower medium\n",
       "11      1     12  partial  tVNS         1      74       0  upper medium\n",
       "12      1     13  partial  tVNS         1      69       1  upper medium\n",
       "13      1     14  partial  tVNS         2      41       1  lower medium\n",
       "14      1     15  partial  tVNS         1      73       0  upper medium\n",
       "15      1     16  partial  tVNS         1      63       1        medium\n",
       "16      1     17  partial  tVNS         2      26       0           low\n",
       "17      1     18  partial  tVNS         2      60       0        medium\n",
       "18      1     19  partial  tVNS         2      16       1           low\n",
       "19      1     20  partial  tVNS         1      56       0        medium"
      ]
     },
     "execution_count": 6,
     "metadata": {},
     "output_type": "execute_result"
    }
   ],
   "source": [
    "data['reward_levels'] = pd.qcut(data['reward'], 5, labels = ['low', 'lower medium', 'medium', 'upper medium', 'high'])\n",
    "data.head(20)"
   ]
  },
  {
   "cell_type": "code",
   "execution_count": 7,
   "id": "f7ca7bfd",
   "metadata": {},
   "outputs": [
    {
     "data": {
      "text/plain": [
       "block               int64\n",
       "trial               int64\n",
       "task               object\n",
       "tvns               object\n",
       "decision            int64\n",
       "reward              int64\n",
       "switch              int64\n",
       "reward_levels    category\n",
       "dtype: object"
      ]
     },
     "execution_count": 7,
     "metadata": {},
     "output_type": "execute_result"
    }
   ],
   "source": [
    "data.dtypes"
   ]
  },
  {
   "cell_type": "code",
   "execution_count": 8,
   "id": "c8ad4bda",
   "metadata": {},
   "outputs": [],
   "source": [
    "# Defining relevant dataframes for future analysis\n",
    "\n",
    "data_tvns = data[data['tvns'] == 'tVNS']\n",
    "data_sham = data[data['tvns'] == 'sham']\n",
    "\n",
    "data_partial = data[data['task'] == 'partial']\n",
    "data_full = data[data['task'] == 'full']\n",
    "\n",
    "data_tvns_block1 = data_tvns[data_tvns['block'] == 1]\n",
    "data_tvns_block2 = data_tvns[data_tvns['block'] == 2]\n",
    "data_tvns_block3 = data_tvns[data_tvns['block'] == 3]\n",
    "data_tvns_block4 = data_tvns[data_tvns['block'] == 4]\n",
    "\n",
    "data_sham_block1 = data_sham[data_sham['block'] == 1]\n",
    "data_sham_block2 = data_sham[data_sham['block'] == 2]\n",
    "data_sham_block3 = data_sham[data_sham['block'] == 3]\n",
    "data_sham_block4 = data_sham[data_sham['block'] == 4]"
   ]
  },
  {
   "cell_type": "code",
   "execution_count": 9,
   "id": "acc1bfc3",
   "metadata": {},
   "outputs": [
    {
     "name": "stdout",
     "output_type": "stream",
     "text": [
      "                 block         trial  decision    reward    switch\n",
      "block     1.000000e+00  2.378474e-16  0.075870  0.008534 -0.051688\n",
      "trial     2.378474e-16  1.000000e+00  0.042813 -0.262333  0.107259\n",
      "decision  7.586962e-02  4.281272e-02  1.000000  0.017022 -0.006020\n",
      "reward    8.533564e-03 -2.623334e-01  0.017022  1.000000 -0.463054\n",
      "switch   -5.168766e-02  1.072593e-01 -0.006020 -0.463054  1.000000\n"
     ]
    }
   ],
   "source": [
    "print(data.corr())"
   ]
  },
  {
   "cell_type": "markdown",
   "id": "c450f35c",
   "metadata": {},
   "source": [
    "### Regression plot for all data"
   ]
  },
  {
   "cell_type": "code",
   "execution_count": 59,
   "id": "699ab812",
   "metadata": {},
   "outputs": [
    {
     "data": {
      "image/png": "[encoded data removed]",
      "text/plain": [
       "<Figure size 720x360 with 1 Axes>"
      ]
     },
     "metadata": {},
     "output_type": "display_data"
    }
   ],
   "source": [
    "sns.lmplot(x=\"reward\", y=\"switch\", data=data, logistic=True, truncate=False, height=5, aspect=10/5)\n",
    "xlim=(0, 99)\n",
    "ylim=(-.05, 1.05)\n",
    "plt.yticks([0, 1])\n",
    "plt.show()\n"
   ]
  },
  {
   "cell_type": "markdown",
   "id": "256547a0",
   "metadata": {},
   "source": [
    "### Regression plot for tVNS condition"
   ]
  },
  {
   "cell_type": "code",
   "execution_count": 58,
   "id": "5b3293e9",
   "metadata": {},
   "outputs": [
    {
     "data": {
      "image/png": "[encoded data removed]",
      "text/plain": [
       "<Figure size 720x360 with 1 Axes>"
      ]
     },
     "metadata": {},
     "output_type": "display_data"
    }
   ],
   "source": [
    "sns.lmplot(x=\"reward\", y=\"switch\", data=data_tvns, logistic=True, truncate=False, height=5, aspect=10/5)\n",
    "xlim=(0, 99)\n",
    "ylim=(-.05, 1.05)\n",
    "plt.yticks([0, 1])\n",
    "plt.show()"
   ]
  },
  {
   "cell_type": "markdown",
   "id": "696f39d2",
   "metadata": {},
   "source": [
    "### Regression plot for sham condition"
   ]
  },
  {
   "cell_type": "code",
   "execution_count": 57,
   "id": "62723bd8",
   "metadata": {},
   "outputs": [
    {
     "data": {
      "image/png": "[encoded data removed]",
      "text/plain": [
       "<Figure size 720x360 with 1 Axes>"
      ]
     },
     "metadata": {},
     "output_type": "display_data"
    }
   ],
   "source": [
    "sns.lmplot(x=\"reward\", y=\"switch\", data=data_sham, logistic=True, truncate=False, height=5, aspect=10/5)\n",
    "xlim=(0, 99)\n",
    "ylim=(-.05, 1.05)\n",
    "plt.yticks([0, 1])\n",
    "plt.show()"
   ]
  },
  {
   "cell_type": "markdown",
   "id": "ec0f7bfd",
   "metadata": {},
   "source": [
    "### Regression plot for full outcome condition"
   ]
  },
  {
   "cell_type": "code",
   "execution_count": 56,
   "id": "d0e96035",
   "metadata": {},
   "outputs": [
    {
     "data": {
      "image/png": "[encoded data removed]",
      "text/plain": [
       "<Figure size 720x360 with 1 Axes>"
      ]
     },
     "metadata": {},
     "output_type": "display_data"
    }
   ],
   "source": [
    "sns.lmplot(x=\"reward\", y=\"switch\", data=data_full, logistic=True, truncate=False, height=5, aspect=10/5)\n",
    "xlim=(0, 99)\n",
    "ylim=(-.05, 1.05)\n",
    "plt.yticks([0, 1])\n",
    "plt.show()"
   ]
  },
  {
   "cell_type": "markdown",
   "id": "a5bca48a",
   "metadata": {},
   "source": [
    "### Regression plot for partial outcome condition"
   ]
  },
  {
   "cell_type": "code",
   "execution_count": 55,
   "id": "3f601d6b",
   "metadata": {},
   "outputs": [
    {
     "data": {
      "image/png": "[encoded data removed]",
      "text/plain": [
       "<Figure size 720x360 with 1 Axes>"
      ]
     },
     "metadata": {},
     "output_type": "display_data"
    }
   ],
   "source": [
    "sns.lmplot(x=\"reward\", y=\"switch\", data=data_partial, logistic=True, truncate=False, height=5, aspect=10/5)\n",
    "xlim=(0, 99)\n",
    "ylim=(-.05, 1.05)\n",
    "plt.yticks([0, 1])\n",
    "plt.show()"
   ]
  },
  {
   "cell_type": "markdown",
   "id": "7269fa6b",
   "metadata": {},
   "source": [
    "### Regression tVNS"
   ]
  },
  {
   "cell_type": "code",
   "execution_count": 62,
   "id": "469e5bb1",
   "metadata": {},
   "outputs": [],
   "source": [
    "y_tvns = data_tvns['switch'].values.reshape(-1, 1)\n",
    "X_tvns = data_tvns['reward'].values.reshape(-1, 1)\n",
    "\n",
    "X_train_tvns, X_test_tvns, y_train_tvns, y_test_tvns = train_test_split(X_tvns, y_tvns, test_size = 0.75)"
   ]
  },
  {
   "cell_type": "code",
   "execution_count": 63,
   "id": "785c07d9",
   "metadata": {},
   "outputs": [
    {
     "name": "stdout",
     "output_type": "stream",
     "text": [
      "Intercept: \n",
      " [1.78298079]\n",
      "Coefficient: \n",
      " [[-0.04951085]]\n",
      "Confusion Matrix : \n",
      " [[105  14]\n",
      " [ 26  23]]\n",
      "Precision : \n",
      " 0.7619047619047619\n"
     ]
    }
   ],
   "source": [
    "regressor_tvns = LogisticRegression(random_state = 42)\n",
    "\n",
    "regressor_tvns.fit(X_train_tvns, y_train_tvns.ravel())\n",
    "\n",
    "print(\"Intercept: \\n\", regressor_tvns.intercept_)\n",
    "\n",
    "print(\"Coefficient: \\n\", regressor_tvns.coef_)\n",
    "\n",
    "y_pred_tvns = regressor_tvns.predict(X_test_tvns)\n",
    "cm_tvns = confusion_matrix(y_test_tvns, y_pred_tvns)\n",
    "  \n",
    "print (\"Confusion Matrix : \\n\", cm_tvns)\n",
    "print (\"Precision : \\n\", accuracy_score(y_test_tvns, y_pred_tvns))"
   ]
  },
  {
   "cell_type": "code",
   "execution_count": 18,
   "id": "80ce7976",
   "metadata": {},
   "outputs": [],
   "source": [
    "# df_preds = pd.DataFrame({'Actual': y_test.squeeze(), 'Predicted': y_pred.squeeze()})\n",
    "# print(df_preds)"
   ]
  },
  {
   "cell_type": "markdown",
   "id": "44417b16",
   "metadata": {},
   "source": [
    "### Regression sham"
   ]
  },
  {
   "cell_type": "code",
   "execution_count": 64,
   "id": "530cda07",
   "metadata": {},
   "outputs": [],
   "source": [
    "y_sham = data_sham['switch'].values.reshape(-1, 1)\n",
    "X_sham = data_sham['reward'].values.reshape(-1, 1)\n",
    "\n",
    "X_train_sham, X_test_sham, y_train_sham, y_test_sham = train_test_split(X_sham, y_sham, test_size = 0.75)"
   ]
  },
  {
   "cell_type": "code",
   "execution_count": 65,
   "id": "3e68ff1d",
   "metadata": {},
   "outputs": [
    {
     "name": "stdout",
     "output_type": "stream",
     "text": [
      "Intercept: \n",
      " [4.4762687]\n",
      "Coefficient: \n",
      " [[-0.11415455]]\n",
      "Confusion Matrix : \n",
      " [[97 20]\n",
      " [28 23]]\n",
      "Accuracy : \n",
      " 0.7142857142857143\n"
     ]
    }
   ],
   "source": [
    "regressor_sham = LogisticRegression(random_state = 42)\n",
    "\n",
    "regressor_sham.fit(X_train_sham, y_train_sham.ravel())\n",
    "\n",
    "print(\"Intercept: \\n\", regressor_sham.intercept_)\n",
    "\n",
    "print(\"Coefficient: \\n\", regressor_sham.coef_)\n",
    "\n",
    "y_pred_sham = regressor_sham.predict(X_test_sham)\n",
    "cm_sham = confusion_matrix(y_test_sham, y_pred_sham)\n",
    "  \n",
    "print (\"Confusion Matrix : \\n\", cm_sham)\n",
    "print (\"Accuracy : \\n\", accuracy_score(y_test_sham, y_pred_sham))"
   ]
  },
  {
   "cell_type": "markdown",
   "id": "06c0978f",
   "metadata": {},
   "source": [
    "### Regression partial"
   ]
  },
  {
   "cell_type": "code",
   "execution_count": 68,
   "id": "1d711882",
   "metadata": {},
   "outputs": [],
   "source": [
    "y_partial = data_partial['switch'].values.reshape(-1, 1)\n",
    "X_partial = data_partial['reward'].values.reshape(-1, 1)\n",
    "\n",
    "X_train_partial, X_test_partial, y_train_partial, y_test_partial = train_test_split(X_partial, y_partial, test_size = 0.75)"
   ]
  },
  {
   "cell_type": "code",
   "execution_count": 69,
   "id": "9c3f3559",
   "metadata": {},
   "outputs": [
    {
     "name": "stdout",
     "output_type": "stream",
     "text": [
      "Intercept: \n",
      " [3.06187578]\n",
      "Coefficient: \n",
      " [[-0.08211888]]\n",
      "Confusion Matrix : \n",
      " [[103  17]\n",
      " [ 26  22]]\n",
      "Accuracy : \n",
      " 0.7440476190476191\n"
     ]
    }
   ],
   "source": [
    "regressor_partial = LogisticRegression(random_state = 42)\n",
    "\n",
    "regressor_partial.fit(X_train_partial, y_train_partial.ravel())\n",
    "\n",
    "print(\"Intercept: \\n\", regressor_partial.intercept_)\n",
    "\n",
    "print(\"Coefficient: \\n\", regressor_partial.coef_)\n",
    "\n",
    "y_pred_partial = regressor_partial.predict(X_test_partial)\n",
    "cm_partial = confusion_matrix(y_test_partial, y_pred_partial)\n",
    "  \n",
    "print (\"Confusion Matrix : \\n\", cm_partial)\n",
    "print (\"Accuracy : \\n\", accuracy_score(y_test_partial, y_pred_partial))"
   ]
  },
  {
   "cell_type": "markdown",
   "id": "14ff0050",
   "metadata": {},
   "source": [
    "### Regression full"
   ]
  },
  {
   "cell_type": "code",
   "execution_count": 70,
   "id": "babbf920",
   "metadata": {},
   "outputs": [],
   "source": [
    "y_full = data_full['switch'].values.reshape(-1, 1)\n",
    "X_full = data_full['reward'].values.reshape(-1, 1)\n",
    "\n",
    "X_train_full, X_test_full, y_train_full, y_test_full = train_test_split(X_full, y_full, test_size = 0.75)"
   ]
  },
  {
   "cell_type": "code",
   "execution_count": 71,
   "id": "f1e1e45a",
   "metadata": {},
   "outputs": [
    {
     "name": "stdout",
     "output_type": "stream",
     "text": [
      "Intercept: \n",
      " [2.43964712]\n",
      "Coefficient: \n",
      " [[-0.0573147]]\n",
      "Confusion Matrix : \n",
      " [[94 22]\n",
      " [24 28]]\n",
      "Accuracy : \n",
      " 0.7261904761904762\n"
     ]
    }
   ],
   "source": [
    "regressor_full = LogisticRegression(random_state = 42)\n",
    "\n",
    "regressor_full.fit(X_train_full, y_train_full.ravel())\n",
    "\n",
    "print(\"Intercept: \\n\", regressor_full.intercept_)\n",
    "\n",
    "print(\"Coefficient: \\n\", regressor_full.coef_)\n",
    "\n",
    "y_pred_full = regressor_full.predict(X_test_full)\n",
    "cm_full = confusion_matrix(y_test_full, y_pred_full)\n",
    "  \n",
    "print (\"Confusion Matrix : \\n\", cm_full)\n",
    "print (\"Accuracy : \\n\", accuracy_score(y_test_full, y_pred_full))"
   ]
  },
  {
   "cell_type": "code",
   "execution_count": null,
   "id": "9defebbc",
   "metadata": {},
   "outputs": [],
   "source": []
  },
  {
   "cell_type": "code",
   "execution_count": null,
   "id": "68f62b98",
   "metadata": {},
   "outputs": [],
   "source": []
  },
  {
   "cell_type": "markdown",
   "id": "20bf1279",
   "metadata": {},
   "source": [
    "### Chi-Square"
   ]
  },
  {
   "cell_type": "code",
   "execution_count": null,
   "id": "df830995",
   "metadata": {},
   "outputs": [],
   "source": [
    "# all data"
   ]
  },
  {
   "cell_type": "code",
   "execution_count": null,
   "id": "25b9a748",
   "metadata": {},
   "outputs": [],
   "source": [
    "data.groupby(by=['switch','reward_levels']).count()"
   ]
  },
  {
   "cell_type": "code",
   "execution_count": null,
   "id": "bc7ad547",
   "metadata": {},
   "outputs": [],
   "source": [
    "contingency = [[33, 60], [52, 37], [71, 23], [64, 18], [88, 2]]\n",
    "chi2_contingency(np.array(contingency))"
   ]
  },
  {
   "cell_type": "code",
   "execution_count": null,
   "id": "4559a21f",
   "metadata": {},
   "outputs": [],
   "source": [
    "# tVNS"
   ]
  },
  {
   "cell_type": "code",
   "execution_count": null,
   "id": "52e895a1",
   "metadata": {},
   "outputs": [],
   "source": [
    "data_tvns.groupby(by=['switch','reward_levels']).count()"
   ]
  },
  {
   "cell_type": "code",
   "execution_count": null,
   "id": "eccad6c0",
   "metadata": {},
   "outputs": [],
   "source": [
    "contingency = [[16, 27], [24, 19], [41, 14], [36, 8], [38, 1]]\n",
    "chi2_contingency(np.array(contingency))"
   ]
  },
  {
   "cell_type": "code",
   "execution_count": null,
   "id": "ca9be6da",
   "metadata": {},
   "outputs": [],
   "source": [
    "# sham"
   ]
  },
  {
   "cell_type": "code",
   "execution_count": null,
   "id": "f0772c37",
   "metadata": {},
   "outputs": [],
   "source": [
    "data_sham.groupby(by=['switch','reward_levels']).count()"
   ]
  },
  {
   "cell_type": "code",
   "execution_count": null,
   "id": "bd034c06",
   "metadata": {},
   "outputs": [],
   "source": [
    "contingency = [[17, 33], [28, 18], [30, 9], [28, 10], [50, 1]]\n",
    "chi2_contingency(np.array(contingency))"
   ]
  },
  {
   "cell_type": "code",
   "execution_count": null,
   "id": "6a3eb36f",
   "metadata": {},
   "outputs": [],
   "source": [
    "# partial"
   ]
  },
  {
   "cell_type": "code",
   "execution_count": null,
   "id": "a4f8c7ad",
   "metadata": {},
   "outputs": [],
   "source": [
    "data_partial.groupby(by=['switch','reward_levels']).count()"
   ]
  },
  {
   "cell_type": "code",
   "execution_count": null,
   "id": "84ae89a5",
   "metadata": {},
   "outputs": [],
   "source": [
    "contingency = [[15, 29], [33, 21], [39, 11], [37, 6], [33, 0]]\n",
    "chi2_contingency(np.array(contingency))"
   ]
  },
  {
   "cell_type": "code",
   "execution_count": null,
   "id": "0fdcb20c",
   "metadata": {},
   "outputs": [],
   "source": [
    "# full"
   ]
  },
  {
   "cell_type": "code",
   "execution_count": null,
   "id": "25231550",
   "metadata": {},
   "outputs": [],
   "source": [
    "data_full.groupby(by=['switch','reward_levels']).count()"
   ]
  },
  {
   "cell_type": "code",
   "execution_count": null,
   "id": "48ab6db5",
   "metadata": {},
   "outputs": [],
   "source": [
    "contingency = [[18, 31], [19, 16], [32, 12], [27, 12], [55, 2]]\n",
    "chi2_contingency(np.array(contingency))"
   ]
  },
  {
   "cell_type": "code",
   "execution_count": null,
   "id": "5124a705",
   "metadata": {},
   "outputs": [],
   "source": []
  },
  {
   "cell_type": "code",
   "execution_count": null,
   "id": "9b75db4b",
   "metadata": {},
   "outputs": [],
   "source": []
  },
  {
   "cell_type": "code",
   "execution_count": null,
   "id": "2800a41f",
   "metadata": {},
   "outputs": [],
   "source": []
  },
  {
   "cell_type": "code",
   "execution_count": null,
   "id": "92b48f16",
   "metadata": {},
   "outputs": [],
   "source": []
  }
 ],
 "metadata": {
  "kernelspec": {
   "display_name": "Python 3 (ipykernel)",
   "language": "python",
   "name": "python3"
  },
  "language_info": {
   "codemirror_mode": {
    "name": "ipython",
    "version": 3
   },
   "file_extension": ".py",
   "mimetype": "text/x-python",
   "name": "python",
   "nbconvert_exporter": "python",
   "pygments_lexer": "ipython3",
   "version": "3.9.12"
  }
 },
 "nbformat": 4,
 "nbformat_minor": 5
}
